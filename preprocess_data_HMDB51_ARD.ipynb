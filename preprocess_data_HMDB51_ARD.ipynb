{
 "cells": [
  {
   "cell_type": "code",
   "execution_count": 1,
   "metadata": {},
   "outputs": [],
   "source": [
    "import numpy\n",
    "import random\n",
    "seed_bytes = b'\\xc2\\x91\\xc2\\x91\\xc2\\x88\\xc2\\x9a\\xc2\\xa8\\xc2\\x98a\\xc2\\x97e\\xc2\\xa9\\xc2\\x8e\\xc2\\x90\\xc2\\x82s\\xc2\\x9c\\xc2\\x8a\\xc2\\x8d\\xc2\\x97m\\xc2\\x99\\xc2\\x8d\\xc2\\x97\\xc2\\xa1\\xc2\\xa7'\n",
    "random.seed(seed_bytes)\n",
    "numpy.random.seed(int.from_bytes(seed_bytes[:4], \"big\"))"
   ]
  },
  {
   "cell_type": "code",
   "execution_count": 2,
   "metadata": {},
   "outputs": [],
   "source": [
    "TARGET_DATASET_VIDEO_ROOT = \"/root/Skripsi/HMDB51-h264\"\n",
    "TARGET_DATASET_GEN = \"/root/Skripsi/HMDB51-pregen/\""
   ]
  },
  {
   "cell_type": "code",
   "execution_count": 3,
   "metadata": {},
   "outputs": [
    {
     "name": "stderr",
     "output_type": "stream",
     "text": [
      "/root/anaconda3/envs/thesis_linux_3.9/lib/python3.9/site-packages/tqdm/auto.py:22: TqdmWarning: IProgress not found. Please update jupyter and ipywidgets. See https://ipywidgets.readthedocs.io/en/stable/user_install.html\n",
      "  from .autonotebook import tqdm as notebook_tqdm\n"
     ]
    }
   ],
   "source": [
    "from importables.preprocessing_managers import DatasetDictionary \n",
    "dataset_dicitonary = DatasetDictionary(TARGET_DATASET_VIDEO_ROOT+\".csv\", DatasetDictionary.Mappings.HMDB51_ACTION_RECOGNITION_DATASET)"
   ]
  },
  {
   "cell_type": "code",
   "execution_count": 4,
   "metadata": {},
   "outputs": [
    {
     "data": {
      "text/html": [
       "<div>\n",
       "<style scoped>\n",
       "    .dataframe tbody tr th:only-of-type {\n",
       "        vertical-align: middle;\n",
       "    }\n",
       "\n",
       "    .dataframe tbody tr th {\n",
       "        vertical-align: top;\n",
       "    }\n",
       "\n",
       "    .dataframe thead th {\n",
       "        text-align: right;\n",
       "    }\n",
       "</style>\n",
       "<table border=\"1\" class=\"dataframe\">\n",
       "  <thead>\n",
       "    <tr style=\"text-align: right;\">\n",
       "      <th></th>\n",
       "      <th>ActionID</th>\n",
       "      <th>VisibleBodyPartsID</th>\n",
       "      <th>CameraMotionID</th>\n",
       "      <th>NumberOfPeople</th>\n",
       "      <th>CameraViewpointID</th>\n",
       "      <th>VideoQuality</th>\n",
       "      <th>VideoNumber</th>\n",
       "      <th>SourceFilePath</th>\n",
       "      <th>GeneratedFileName</th>\n",
       "      <th>FrameCount</th>\n",
       "    </tr>\n",
       "  </thead>\n",
       "  <tbody>\n",
       "    <tr>\n",
       "      <th>0</th>\n",
       "      <td>1</td>\n",
       "      <td>2</td>\n",
       "      <td>2</td>\n",
       "      <td>1</td>\n",
       "      <td>2</td>\n",
       "      <td>1</td>\n",
       "      <td>0</td>\n",
       "      <td>/root/Skripsi/HMDB51-h264/brush_hair/April_09_...</td>\n",
       "      <td>A001B002C002N001P002Q001X000!!April_09.h5</td>\n",
       "      <td>408</td>\n",
       "    </tr>\n",
       "    <tr>\n",
       "      <th>1</th>\n",
       "      <td>1</td>\n",
       "      <td>2</td>\n",
       "      <td>2</td>\n",
       "      <td>1</td>\n",
       "      <td>2</td>\n",
       "      <td>1</td>\n",
       "      <td>1</td>\n",
       "      <td>/root/Skripsi/HMDB51-h264/brush_hair/April_09_...</td>\n",
       "      <td>A001B002C002N001P002Q001X001!!April_09.h5</td>\n",
       "      <td>394</td>\n",
       "    </tr>\n",
       "    <tr>\n",
       "      <th>2</th>\n",
       "      <td>1</td>\n",
       "      <td>2</td>\n",
       "      <td>2</td>\n",
       "      <td>1</td>\n",
       "      <td>2</td>\n",
       "      <td>1</td>\n",
       "      <td>2</td>\n",
       "      <td>/root/Skripsi/HMDB51-h264/brush_hair/April_09_...</td>\n",
       "      <td>A001B002C002N001P002Q001X002!!April_09.h5</td>\n",
       "      <td>322</td>\n",
       "    </tr>\n",
       "    <tr>\n",
       "      <th>3</th>\n",
       "      <td>1</td>\n",
       "      <td>2</td>\n",
       "      <td>2</td>\n",
       "      <td>2</td>\n",
       "      <td>3</td>\n",
       "      <td>1</td>\n",
       "      <td>0</td>\n",
       "      <td>/root/Skripsi/HMDB51-h264/brush_hair/atempting...</td>\n",
       "      <td>A001B002C002N002P003Q001X000!!atempting_to_bru...</td>\n",
       "      <td>156</td>\n",
       "    </tr>\n",
       "    <tr>\n",
       "      <th>4</th>\n",
       "      <td>1</td>\n",
       "      <td>2</td>\n",
       "      <td>2</td>\n",
       "      <td>2</td>\n",
       "      <td>3</td>\n",
       "      <td>1</td>\n",
       "      <td>1</td>\n",
       "      <td>/root/Skripsi/HMDB51-h264/brush_hair/atempting...</td>\n",
       "      <td>A001B002C002N002P003Q001X001!!atempting_to_bru...</td>\n",
       "      <td>129</td>\n",
       "    </tr>\n",
       "  </tbody>\n",
       "</table>\n",
       "</div>"
      ],
      "text/plain": [
       "   ActionID  VisibleBodyPartsID  CameraMotionID  NumberOfPeople  \\\n",
       "0         1                   2               2               1   \n",
       "1         1                   2               2               1   \n",
       "2         1                   2               2               1   \n",
       "3         1                   2               2               2   \n",
       "4         1                   2               2               2   \n",
       "\n",
       "   CameraViewpointID  VideoQuality  VideoNumber  \\\n",
       "0                  2             1            0   \n",
       "1                  2             1            1   \n",
       "2                  2             1            2   \n",
       "3                  3             1            0   \n",
       "4                  3             1            1   \n",
       "\n",
       "                                      SourceFilePath  \\\n",
       "0  /root/Skripsi/HMDB51-h264/brush_hair/April_09_...   \n",
       "1  /root/Skripsi/HMDB51-h264/brush_hair/April_09_...   \n",
       "2  /root/Skripsi/HMDB51-h264/brush_hair/April_09_...   \n",
       "3  /root/Skripsi/HMDB51-h264/brush_hair/atempting...   \n",
       "4  /root/Skripsi/HMDB51-h264/brush_hair/atempting...   \n",
       "\n",
       "                                   GeneratedFileName  FrameCount  \n",
       "0          A001B002C002N001P002Q001X000!!April_09.h5         408  \n",
       "1          A001B002C002N001P002Q001X001!!April_09.h5         394  \n",
       "2          A001B002C002N001P002Q001X002!!April_09.h5         322  \n",
       "3  A001B002C002N002P003Q001X000!!atempting_to_bru...         156  \n",
       "4  A001B002C002N002P003Q001X001!!atempting_to_bru...         129  "
      ]
     },
     "execution_count": 4,
     "metadata": {},
     "output_type": "execute_result"
    }
   ],
   "source": [
    "dataset_dicitonary_pd = dataset_dicitonary.as_DataFrame()\n",
    "dataset_dicitonary_pd.head()"
   ]
  },
  {
   "cell_type": "code",
   "execution_count": 5,
   "metadata": {},
   "outputs": [],
   "source": [
    "filter_ds = dataset_dicitonary_pd\n",
    "ds_filtered_tuple_np = filter_ds[dataset_dicitonary_pd.columns[-3:-1]].to_numpy()\n",
    "ds_filtered_tuple = ds_filtered_tuple_np.tolist()"
   ]
  },
  {
   "cell_type": "code",
   "execution_count": 6,
   "metadata": {},
   "outputs": [
    {
     "name": "stdout",
     "output_type": "stream",
     "text": [
      "Generating execution file...\n",
      "Execution file generated\n",
      "Run execution file independently with this command\n",
      "\n",
      "cd '/root/HARMV';python '/root/HARMV/preprocess_data_execute.py'\n",
      "\n",
      "for maximum performance\n",
      "This notebook will terminate\n"
     ]
    }
   ],
   "source": [
    "import os\n",
    "print(\"Generating execution file...\")\n",
    "generate_python_runfile = \\\n",
    "f\"\"\"\n",
    "from importables.preprocessing_managers import PreprocessingManagers, DatasetDictionary\n",
    "from importables.constants import PREPROCESSING_ARGUMENTS_MASK_GENERATOR, PREPROCESSING_ARGUMENTS_MOTION_VECTOR_PROCESSOR, PREPROCESSING_ARGUMENTS_OPTICAL_FLOW_GENERATOR\n",
    "from tqdm.auto import tqdm\n",
    "import os\n",
    "import time\n",
    "import cv2\n",
    "import traceback\n",
    "FILE_TUPLE_LIST = {ds_filtered_tuple}\n",
    "FOLDER_DEST = \"{TARGET_DATASET_GEN}\"\n",
    "log_file = open(FOLDER_DEST+\"../logfile.txt\",\"a\")\n",
    "pregenerator = PreprocessingManagers.Pregenerator(\n",
    "    target_folder=FOLDER_DEST,\n",
    "    motion_vector_processor_kwargs=PREPROCESSING_ARGUMENTS_MOTION_VECTOR_PROCESSOR,\n",
    "    mask_generator_kwargs=PREPROCESSING_ARGUMENTS_MASK_GENERATOR,\n",
    "    optical_flow_generator_kwargs=PREPROCESSING_ARGUMENTS_OPTICAL_FLOW_GENERATOR,\n",
    "    directory_mapping=DatasetDictionary.Mappings.UCF101_ACTION_RECOGNITION_DATASET\n",
    ") \n",
    "pregenerator.init_models(FILE_TUPLE_LIST[0][0])\n",
    "last_index = int(input(\"Start from ?(Index): \"))\n",
    "print(\"Sleeping for 10 seconds\")\n",
    "time.sleep(10)\n",
    "print(\"Running...\")\n",
    "current_idx = 0\n",
    "retry_count = 0 \n",
    "MAX_RETRY = 3\n",
    "for current_path, current_name in tqdm(FILE_TUPLE_LIST):\n",
    "    if current_idx < last_index or os.path.exists(os.path.join(FOLDER_DEST,current_name)):\n",
    "        print(\"Skipping...\")\n",
    "        current_idx += 1\n",
    "        continue\n",
    "    cap = cv2.VideoCapture(current_path)\n",
    "    current_length = int(cap.get(cv2.CAP_PROP_FRAME_COUNT))\n",
    "    cap.release()\n",
    "    while True:\n",
    "        print({r'f\"Current Index = {current_idx}\"'})\n",
    "        try:\n",
    "            current_success = pregenerator.pregenerate_preprocessing(current_path, current_name, current_length)\n",
    "            assert current_success\n",
    "        except KeyboardInterrupt:\n",
    "            exit()\n",
    "        except:\n",
    "            traceback.print_exc()\n",
    "            if retry_count < MAX_RETRY:\n",
    "                print({r'f\"Retrying {current_name}...\"'})\n",
    "                retry_count += 1\n",
    "                continue\n",
    "            else:\n",
    "                print({r'f\"Skipping {current_name} for failing more than 10 times...\"'})\n",
    "                current_idx += 1 \n",
    "                log_file.write(\"\\\\n\\\\n\"+\"Current Index: \" + str(current_idx) +\"\\\\n\")\n",
    "                log_file.write(\"\\\\n\"+current_name+\"\\\\n\\\\n\")\n",
    "                log_file.write(traceback.format_exc())\n",
    "                retry_count = 0\n",
    "                break\n",
    "        else:\n",
    "            current_idx += 1 \n",
    "            retry_count = 0\n",
    "            break\n",
    "    os.system('clear')\n",
    "\"\"\" \n",
    "f = open(\"./preprocess_data_execute.py\", \"w\")\n",
    "f.write(generate_python_runfile)\n",
    "f.close()\n",
    "print(\"Execution file generated\")\n",
    "print(f\"Run execution file independently with this command\\n\\ncd '{os.path.abspath('./')}';python '{os.path.abspath('./preprocess_data_execute.py')}'\\n\\nfor maximum performance\")\n",
    "print(\"This notebook will terminate\")"
   ]
  },
  {
   "cell_type": "code",
   "execution_count": null,
   "metadata": {},
   "outputs": [
    {
     "ename": "",
     "evalue": "",
     "output_type": "error",
     "traceback": [
      "\u001b[1;31mCanceled future for execute_request message before replies were done"
     ]
    },
    {
     "ename": "",
     "evalue": "",
     "output_type": "error",
     "traceback": [
      "\u001b[1;31mThe Kernel crashed while executing code in the the current cell or a previous cell. Please review the code in the cell(s) to identify a possible cause of the failure. Click <a href='https://aka.ms/vscodeJupyterKernelCrash'>here</a> for more info. View Jupyter <a href='command:jupyter.viewOutput'>log</a> for further details."
     ]
    }
   ],
   "source": [
    "os._exit(00)"
   ]
  }
 ],
 "metadata": {
  "kernelspec": {
   "display_name": "thesis_linux_3.9",
   "language": "python",
   "name": "python3"
  },
  "language_info": {
   "codemirror_mode": {
    "name": "ipython",
    "version": 3
   },
   "file_extension": ".py",
   "mimetype": "text/x-python",
   "name": "python",
   "nbconvert_exporter": "python",
   "pygments_lexer": "ipython3",
   "version": "3.9.16"
  },
  "orig_nbformat": 4
 },
 "nbformat": 4,
 "nbformat_minor": 2
}
