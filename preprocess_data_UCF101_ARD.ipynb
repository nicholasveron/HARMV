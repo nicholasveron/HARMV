{
 "cells": [
  {
   "cell_type": "code",
   "execution_count": 1,
   "metadata": {},
   "outputs": [],
   "source": [
    "import numpy\n",
    "import random\n",
    "seed_bytes = b'\\xc2\\x91\\xc2\\x91\\xc2\\x88\\xc2\\x9a\\xc2\\xa8\\xc2\\x98a\\xc2\\x97e\\xc2\\xa9\\xc2\\x8e\\xc2\\x90\\xc2\\x82s\\xc2\\x9c\\xc2\\x8a\\xc2\\x8d\\xc2\\x97m\\xc2\\x99\\xc2\\x8d\\xc2\\x97\\xc2\\xa1\\xc2\\xa7'\n",
    "random.seed(seed_bytes)\n",
    "numpy.random.seed(int.from_bytes(seed_bytes[:4], \"big\"))"
   ]
  },
  {
   "cell_type": "code",
   "execution_count": 2,
   "metadata": {},
   "outputs": [],
   "source": [
    "TARGET_DATASET_VIDEO_ROOT = \"/mnt/c/Skripsi/UCF-101-h264\"\n",
    "TARGET_DATASET_GEN = \"/mnt/c/Skripsi/UCF-101-pregen/\""
   ]
  },
  {
   "cell_type": "code",
   "execution_count": 3,
   "metadata": {},
   "outputs": [],
   "source": [
    "from importables.preprocessing_managers import DatasetDictionary \n",
    "dataset_dicitonary = DatasetDictionary(TARGET_DATASET_VIDEO_ROOT+\".csv\", DatasetDictionary.Mappings.UCF101_ACTION_RECOGNITION_DATASET)"
   ]
  },
  {
   "cell_type": "code",
   "execution_count": 4,
   "metadata": {},
   "outputs": [
    {
     "data": {
      "text/html": [
       "<div>\n",
       "<style scoped>\n",
       "    .dataframe tbody tr th:only-of-type {\n",
       "        vertical-align: middle;\n",
       "    }\n",
       "\n",
       "    .dataframe tbody tr th {\n",
       "        vertical-align: top;\n",
       "    }\n",
       "\n",
       "    .dataframe thead th {\n",
       "        text-align: right;\n",
       "    }\n",
       "</style>\n",
       "<table border=\"1\" class=\"dataframe\">\n",
       "  <thead>\n",
       "    <tr style=\"text-align: right;\">\n",
       "      <th></th>\n",
       "      <th>ActionID</th>\n",
       "      <th>ClipID</th>\n",
       "      <th>GroupID</th>\n",
       "      <th>SourceFilePath</th>\n",
       "      <th>GeneratedFileName</th>\n",
       "      <th>FrameCount</th>\n",
       "    </tr>\n",
       "  </thead>\n",
       "  <tbody>\n",
       "    <tr>\n",
       "      <th>0</th>\n",
       "      <td>1</td>\n",
       "      <td>1</td>\n",
       "      <td>1</td>\n",
       "      <td>/mnt/c/Skripsi/UCF-101-h264/ApplyEyeMakeup/v_A...</td>\n",
       "      <td>A001C001G001.h5</td>\n",
       "      <td>165</td>\n",
       "    </tr>\n",
       "    <tr>\n",
       "      <th>1</th>\n",
       "      <td>1</td>\n",
       "      <td>2</td>\n",
       "      <td>1</td>\n",
       "      <td>/mnt/c/Skripsi/UCF-101-h264/ApplyEyeMakeup/v_A...</td>\n",
       "      <td>A001C002G001.h5</td>\n",
       "      <td>124</td>\n",
       "    </tr>\n",
       "    <tr>\n",
       "      <th>2</th>\n",
       "      <td>1</td>\n",
       "      <td>3</td>\n",
       "      <td>1</td>\n",
       "      <td>/mnt/c/Skripsi/UCF-101-h264/ApplyEyeMakeup/v_A...</td>\n",
       "      <td>A001C003G001.h5</td>\n",
       "      <td>260</td>\n",
       "    </tr>\n",
       "    <tr>\n",
       "      <th>3</th>\n",
       "      <td>1</td>\n",
       "      <td>4</td>\n",
       "      <td>1</td>\n",
       "      <td>/mnt/c/Skripsi/UCF-101-h264/ApplyEyeMakeup/v_A...</td>\n",
       "      <td>A001C004G001.h5</td>\n",
       "      <td>236</td>\n",
       "    </tr>\n",
       "    <tr>\n",
       "      <th>4</th>\n",
       "      <td>1</td>\n",
       "      <td>5</td>\n",
       "      <td>1</td>\n",
       "      <td>/mnt/c/Skripsi/UCF-101-h264/ApplyEyeMakeup/v_A...</td>\n",
       "      <td>A001C005G001.h5</td>\n",
       "      <td>297</td>\n",
       "    </tr>\n",
       "  </tbody>\n",
       "</table>\n",
       "</div>"
      ],
      "text/plain": [
       "   ActionID  ClipID  GroupID  \\\n",
       "0         1       1        1   \n",
       "1         1       2        1   \n",
       "2         1       3        1   \n",
       "3         1       4        1   \n",
       "4         1       5        1   \n",
       "\n",
       "                                      SourceFilePath GeneratedFileName  \\\n",
       "0  /mnt/c/Skripsi/UCF-101-h264/ApplyEyeMakeup/v_A...   A001C001G001.h5   \n",
       "1  /mnt/c/Skripsi/UCF-101-h264/ApplyEyeMakeup/v_A...   A001C002G001.h5   \n",
       "2  /mnt/c/Skripsi/UCF-101-h264/ApplyEyeMakeup/v_A...   A001C003G001.h5   \n",
       "3  /mnt/c/Skripsi/UCF-101-h264/ApplyEyeMakeup/v_A...   A001C004G001.h5   \n",
       "4  /mnt/c/Skripsi/UCF-101-h264/ApplyEyeMakeup/v_A...   A001C005G001.h5   \n",
       "\n",
       "   FrameCount  \n",
       "0         165  \n",
       "1         124  \n",
       "2         260  \n",
       "3         236  \n",
       "4         297  "
      ]
     },
     "execution_count": 4,
     "metadata": {},
     "output_type": "execute_result"
    }
   ],
   "source": [
    "dataset_dicitonary_pd = dataset_dicitonary.as_DataFrame()\n",
    "dataset_dicitonary_pd.head()"
   ]
  },
  {
   "cell_type": "code",
   "execution_count": 5,
   "metadata": {},
   "outputs": [],
   "source": [
    "filter_ds = dataset_dicitonary_pd\n",
    "ds_filtered_tuple_np = filter_ds[dataset_dicitonary_pd.columns[-3:-1]].to_numpy()\n",
    "ds_filtered_tuple = ds_filtered_tuple_np.tolist()"
   ]
  },
  {
   "cell_type": "code",
   "execution_count": 6,
   "metadata": {},
   "outputs": [
    {
     "name": "stdout",
     "output_type": "stream",
     "text": [
      "Generating execution file...\n",
      "Execution file generated\n",
      "Run execution file independently with this command\n",
      "\n",
      "cd '/mnt/d/Desktop/kuliah mbut/SKRIPSI BOIS/Codes/HARMV';python '/mnt/d/Desktop/kuliah mbut/SKRIPSI BOIS/Codes/HARMV/preprocess_data_execute.py'\n",
      "\n",
      "for maximum performance\n",
      "This notebook will terminate\n"
     ]
    }
   ],
   "source": [
    "import os\n",
    "print(\"Generating execution file...\")\n",
    "generate_python_runfile = \\\n",
    "f\"\"\"\n",
    "from importables.preprocessing_managers import PreprocessingManagers, DatasetDictionary\n",
    "from importables.constants import PREPROCESSING_ARGUMENTS_MASK_GENERATOR, PREPROCESSING_ARGUMENTS_MOTION_VECTOR_PROCESSOR, PREPROCESSING_ARGUMENTS_OPTICAL_FLOW_GENERATOR\n",
    "from tqdm.auto import tqdm\n",
    "import os\n",
    "import time\n",
    "import cv2\n",
    "import traceback\n",
    "FILE_TUPLE_LIST = {ds_filtered_tuple}\n",
    "FOLDER_DEST = \"{TARGET_DATASET_GEN}\"\n",
    "log_file = open(FOLDER_DEST+\"../logfile.txt\",\"a\")\n",
    "pregenerator = PreprocessingManagers.Pregenerator(\n",
    "    target_folder=FOLDER_DEST,\n",
    "    motion_vector_processor_kwargs=PREPROCESSING_ARGUMENTS_MOTION_VECTOR_PROCESSOR,\n",
    "    mask_generator_kwargs=PREPROCESSING_ARGUMENTS_MASK_GENERATOR,\n",
    "    optical_flow_generator_kwargs=PREPROCESSING_ARGUMENTS_OPTICAL_FLOW_GENERATOR,\n",
    "    directory_mapping=DatasetDictionary.Mappings.UCF101_ACTION_RECOGNITION_DATASET\n",
    ") \n",
    "pregenerator.init_models(FILE_TUPLE_LIST[0][0])\n",
    "last_index = int(input(\"Start from ?(Index): \"))\n",
    "print(\"Sleeping for 10 seconds\")\n",
    "time.sleep(10)\n",
    "print(\"Running...\")\n",
    "current_idx = 0\n",
    "retry_count = 0 \n",
    "MAX_RETRY = 3\n",
    "for current_path, current_name in tqdm(FILE_TUPLE_LIST):\n",
    "    if current_idx < last_index:\n",
    "        print(\"Skipping...\")\n",
    "        current_idx += 1\n",
    "        continue\n",
    "    cap = cv2.VideoCapture(current_path)\n",
    "    current_length = int(cap.get(cv2.CAP_PROP_FRAME_COUNT))\n",
    "    cap.release()\n",
    "    while True:\n",
    "        print({r'f\"Current Index = {current_idx}\"'})\n",
    "        try:\n",
    "            current_success = pregenerator.pregenerate_preprocessing(current_path, current_name, current_length)\n",
    "            assert current_success\n",
    "        except KeyboardInterrupt:\n",
    "            exit()\n",
    "        except:\n",
    "            traceback.print_exc()\n",
    "            if retry_count < MAX_RETRY:\n",
    "                print({r'f\"Retrying {current_name}...\"'})\n",
    "                retry_count += 1\n",
    "                continue\n",
    "            else:\n",
    "                print({r'f\"Skipping {current_name} for failing more than 10 times...\"'})\n",
    "                current_idx += 1 \n",
    "                log_file.write(\"\\\\n\\\\n\"+\"Current Index: \" + str(current_idx) +\"\\\\n\")\n",
    "                log_file.write(\"\\\\n\"+current_name+\"\\\\n\\\\n\")\n",
    "                log_file.write(traceback.format_exc())\n",
    "                retry_count = 0\n",
    "                break\n",
    "        else:\n",
    "            current_idx += 1 \n",
    "            retry_count = 0\n",
    "            break\n",
    "    os.system('clear')\n",
    "\"\"\" \n",
    "f = open(\"./preprocess_data_execute.py\", \"w\")\n",
    "f.write(generate_python_runfile)\n",
    "f.close()\n",
    "print(\"Execution file generated\")\n",
    "print(f\"Run execution file independently with this command\\n\\ncd '{os.path.abspath('./')}';python '{os.path.abspath('./preprocess_data_execute.py')}'\\n\\nfor maximum performance\")\n",
    "print(\"This notebook will terminate\")"
   ]
  },
  {
   "cell_type": "code",
   "execution_count": null,
   "metadata": {},
   "outputs": [
    {
     "ename": "",
     "evalue": "",
     "output_type": "error",
     "traceback": [
      "\u001b[1;31mCanceled future for execute_request message before replies were done"
     ]
    },
    {
     "ename": "",
     "evalue": "",
     "output_type": "error",
     "traceback": [
      "\u001b[1;31mThe Kernel crashed while executing code in the the current cell or a previous cell. Please review the code in the cell(s) to identify a possible cause of the failure. Click <a href='https://aka.ms/vscodeJupyterKernelCrash'>here</a> for more info. View Jupyter <a href='command:jupyter.viewOutput'>log</a> for further details."
     ]
    }
   ],
   "source": [
    "os._exit(00)"
   ]
  }
 ],
 "metadata": {
  "kernelspec": {
   "display_name": "thesis_linux_3.9",
   "language": "python",
   "name": "python3"
  },
  "language_info": {
   "codemirror_mode": {
    "name": "ipython",
    "version": 3
   },
   "file_extension": ".py",
   "mimetype": "text/x-python",
   "name": "python",
   "nbconvert_exporter": "python",
   "pygments_lexer": "ipython3",
   "version": "3.9.15"
  },
  "orig_nbformat": 4
 },
 "nbformat": 4,
 "nbformat_minor": 2
}
