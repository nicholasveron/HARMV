{
 "cells": [
  {
   "cell_type": "code",
   "execution_count": null,
   "metadata": {},
   "outputs": [],
   "source": [
    "import os\n",
    "import shutil\n",
    "import argparse\n",
    "import subprocess\n",
    "from tqdm.auto import tqdm"
   ]
  },
  {
   "cell_type": "code",
   "execution_count": null,
   "metadata": {},
   "outputs": [],
   "source": [
    "arg_dicts = [\n",
    "    (\n",
    "        \"source_root\",\n",
    "        {\n",
    "            \"help\": \"Root source folder to convert\"\n",
    "        }\n",
    "    ),\n",
    "    (\n",
    "        \"destination_root\",\n",
    "        {\n",
    "            \"help\": \"Root destination folder\"\n",
    "        }\n",
    "    ),\n",
    "    (\n",
    "        \"--bitrate\",\n",
    "        {\n",
    "            \"default\": \"5M\",\n",
    "            \"help\": \"Target bitrate\"\n",
    "        }\n",
    "    )\n",
    "]"
   ]
  },
  {
   "cell_type": "code",
   "execution_count": null,
   "metadata": {},
   "outputs": [],
   "source": [
    "parser = argparse.ArgumentParser(description=\"\"\"Convert whole folder(s) of video from MPEG-4 to H.264 using nvenc via ffmpeg.\n",
    "WARNING: this program doesn't handle ffmpeg error, make sure ffmpeg nvenc run successfully before running this!\"\"\")\n",
    "\n",
    "[parser.add_argument(arg_dict[0],**arg_dict[1]) for arg_dict in arg_dicts]\n",
    "\n",
    "args = parser.parse_args()\n",
    "\n",
    "print(args)"
   ]
  },
  {
   "cell_type": "code",
   "execution_count": null,
   "metadata": {},
   "outputs": [],
   "source": [
    "category_list = os.listdir(args.source_root)\n",
    "\n",
    "if os.path.exists(args.destination_root):\n",
    "    shutil.rmtree(args.destination_root)\n",
    "\n",
    "os.mkdir(args.destination_root)"
   ]
  },
  {
   "cell_type": "code",
   "execution_count": null,
   "metadata": {},
   "outputs": [],
   "source": [
    "for category_folder in tqdm(category_list):\n",
    "    category_path = os.path.join(args.source_root, category_folder)\n",
    "    target_category_path = os.path.join(args.destination_root, category_folder)\n",
    "\n",
    "    os.mkdir(target_category_path)\n",
    "\n",
    "    video_list = os.listdir(category_path)\n",
    "    for video_name in tqdm(video_list, desc=category_folder):\n",
    "        video_path = os.path.join(category_path,video_name)\n",
    "        target_video_path = os.path.join(args.destination_root,category_folder,video_name)\n",
    "\n",
    "        abs_vid_path = os.path.abspath(video_path)\n",
    "        abs_target_vid_path = os.path.abspath(target_video_path).split(\".avi\")[0] + \".mp4\"\n",
    "\n",
    "        ffmpeg_li = [\n",
    "            \"ffmpeg\",\n",
    "            \"-i\", \"'%s'\" % abs_vid_path, \n",
    "            \"-vcodec\", \"h264_nvenc\", \n",
    "            \"-b:v\", args.bitrate,\n",
    "            \"'%s'\" % abs_target_vid_path\n",
    "        ]\n",
    "\n",
    "        ffmpeg_cmd = \" \".join(ffmpeg_li)\n",
    "\n",
    "        ffmpeg_run = subprocess.run(ffmpeg_cmd, shell=True)"
   ]
  }
 ],
 "metadata": {
  "kernelspec": {
   "display_name": "thesis_linux_3.9",
   "language": "python",
   "name": "python3"
  },
  "language_info": {
   "name": "python",
   "version": "3.9.15"
  },
  "orig_nbformat": 4,
  "vscode": {
   "interpreter": {
    "hash": "66663a83187f64596851732d90c8dfeac0999d1e7e47f2fef46fce9f4120f96e"
   }
  }
 },
 "nbformat": 4,
 "nbformat_minor": 2
}
